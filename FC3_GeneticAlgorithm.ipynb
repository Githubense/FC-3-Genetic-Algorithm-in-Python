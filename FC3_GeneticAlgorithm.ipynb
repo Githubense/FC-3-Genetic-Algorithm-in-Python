{
 "cells": [
  {
   "cell_type": "markdown",
   "id": "469a91f5ac4a4715",
   "metadata": {
    "collapsed": false,
    "jupyter": {
     "outputs_hidden": false
    }
   },
   "source": [
    "# FC3 - Genetic Algorithm\n",
    "Angel Adrian Pimienta Flores\n",
    "\n",
    "ID: 167210\n",
    "\n",
    "This section details the importation of necessary Python libraries essential for the execution of the genetic algorithm."
   ]
  },
  {
   "cell_type": "code",
   "execution_count": 16,
   "id": "67ae68f67350525c",
   "metadata": {
    "ExecuteTime": {
     "end_time": "2024-04-23T03:18:00.370318Z",
     "start_time": "2024-04-23T03:18:00.368474Z"
    },
    "collapsed": false,
    "jupyter": {
     "outputs_hidden": false
    }
   },
   "outputs": [],
   "source": [
    "import numpy as np\n",
    "import random\n",
    "import operator\n",
    "import pandas as pd\n",
    "import matplotlib.pyplot as plt"
   ]
  },
  {
   "cell_type": "markdown",
   "id": "247bc85b10ca721d",
   "metadata": {
    "collapsed": false,
    "jupyter": {
     "outputs_hidden": false
    }
   },
   "source": [
    "## Class Definitions\r",
    "#### Metro Station Class\n",
    "\r\n",
    "This class encapsulates the concept of a metro station. Each station is initialized with its name and a dictionary detailing the travel times to adjacent stations, providing a means to retrieve travel time efficientlthon"
   ]
  },
  {
   "cell_type": "code",
   "execution_count": 17,
   "id": "67ea17a9d975fe61",
   "metadata": {
    "ExecuteTime": {
     "end_time": "2024-04-23T03:18:01.201593Z",
     "start_time": "2024-04-23T03:18:01.199574Z"
    },
    "collapsed": false,
    "jupyter": {
     "outputs_hidden": false
    }
   },
   "outputs": [],
   "source": [
    "class Station:\n",
    "    # Start of the Station class definition\n",
    "    def __init__(self, name, neighbors):\n",
    "        # Constructor method with two parameters: name (string) and neighbors (dictionary)\n",
    "        self.name = name  # Initialize the 'name' attribute with the provided 'name' argument\n",
    "        self.neighbors = neighbors  # Initialize the 'neighbors' attribute with the provided 'neighbors' dictionary\n",
    "\n",
    "    def distance(self, station):\n",
    "        # Define a method to calculate the travel time to another station\n",
    "        return self.neighbors.get(station.name, float('inf'))  # Return the travel time to the station passed as an argument.\n",
    "                                                              # If the station is not a direct neighbor, return infinity.\n",
    "\n",
    "    def __repr__(self):\n",
    "        # Define the official string representation method of the Station object\n",
    "        return self.name  # Return the name of the station as its string representation\n"
   ]
  },
  {
   "cell_type": "markdown",
   "id": "c67da699e49d3447",
   "metadata": {
    "collapsed": false,
    "jupyter": {
     "outputs_hidden": false
    }
   },
   "source": [
    "#### Route Fitness Evaluator Class\r\n",
    "This class assesses the viability of a route through the metro network. It calculates the total travel time of the route and determines its fitness, an inverse value that aids the genetic algorithm in optimizing for the shortest path."
   ]
  },
  {
   "cell_type": "code",
   "execution_count": 18,
   "id": "1c81405d61da03ba",
   "metadata": {
    "ExecuteTime": {
     "end_time": "2024-04-23T04:56:27.122927Z",
     "start_time": "2024-04-23T04:56:27.119342Z"
    },
    "collapsed": false,
    "jupyter": {
     "outputs_hidden": false
    }
   },
   "outputs": [],
   "source": [
    "class Fitness:\n",
    "    # Define the Fitness class which is used to evaluate the 'fitness' of a specific route.\n",
    "    def __init__(self, route):\n",
    "        # Constructor method that initializes an instance of Fitness with the provided route.\n",
    "        self.route = route  # Stores the route, which is a list of Station objects.\n",
    "        self.distance = 0  # Initialize the 'distance' attribute to 0. This will store the total travel time of the route.\n",
    "        self.fitness = 0.0  # Initialize the 'fitness' attribute to 0.0. This is a measure of the route's efficiency.\n",
    "\n",
    "    def routeDistance(self):\n",
    "        # Define a method to calculate the total travel time of the route.\n",
    "        if self.distance == 0: \n",
    "            # Only calculate the distance if it has not already been calculated.\n",
    "            pathDistance = 0  # Initialize a variable to accumulate the total travel time.\n",
    "            for i in range(0, len(self.route) - 1):\n",
    "                # Iterate through pairs of consecutive stations in the route.\n",
    "                pathDistance += self.route[i].distance(self.route[i + 1])\n",
    "                # Add the distance (travel time) between consecutive stations to the total.\n",
    "            self.distance = pathDistance  # Store the total calculated distance in the attribute.\n",
    "        return self.distance  # Return the total distance for this route.\n",
    "\n",
    "    def routeFitness(self):\n",
    "        # Define a method to calculate the fitness of the route based on its total distance.\n",
    "        if self.fitness == 0:  \n",
    "            # Only calculate the fitness if it has not already been calculated.\n",
    "            self.fitness = 1 / float(self.routeDistance())\n",
    "            # Calculate fitness as the inverse of the total distance; higher fitness for shorter distances.\n",
    "        return self.fitness  # Return the fitness value.\n"
   ]
  },
  {
   "cell_type": "markdown",
   "id": "c5fd8451e40d7e64",
   "metadata": {
    "collapsed": false,
    "jupyter": {
     "outputs_hidden": false
    }
   },
   "source": [
    "## Genetic Algorithm Functions\r",
    "#### Route Initialization\r\n",
    "Generates an initial valid route from the start to the end station, avoiding cycles."
   ]
  },
  {
   "cell_type": "code",
   "execution_count": 19,
   "id": "9ae9a5230bef4c7e",
   "metadata": {
    "ExecuteTime": {
     "end_time": "2024-04-23T06:26:26.597820Z",
     "start_time": "2024-04-23T06:26:26.593016Z"
    },
    "collapsed": false,
    "jupyter": {
     "outputs_hidden": false
    }
   },
   "outputs": [],
   "source": [
    "def createValidRoute(stationList, startStation, endStation, path=[]):\n",
    "    # Define a recursive function to create a valid path from startStation to endStation.\n",
    "    if path is None:\n",
    "        path = []  # Initialize path if it's passed as None, ensuring it's a mutable list.\n",
    "    if startStation == endStation:\n",
    "        return path + [startStation]  # Return the path including the end station if start equals end.\n",
    "\n",
    "    if startStation not in path:\n",
    "        # Check if the start station is not already in the path to avoid cycles.\n",
    "        newPath = path + [startStation]  # Add the current start station to the path.\n",
    "        neighbors = [station for station in stationList if station.name in startStation.neighbors]\n",
    "        # Create a list of neighboring stations that are directly connected to the startStation.\n",
    "        random.shuffle(neighbors)  # Shuffle neighbors to introduce randomness in the path selection.\n",
    "        for neighbor in neighbors:\n",
    "            # Iterate through each neighbor to attempt to extend the path recursively.\n",
    "            if neighbor not in path:\n",
    "                # Ensure the neighbor isn't already in the path to avoid revisiting stations.\n",
    "                extended_path = createValidRoute(stationList, neighbor, endStation, newPath)\n",
    "                # Recursively call createValidRoute to try to extend the path from the neighbor to the endStation.\n",
    "                if extended_path:\n",
    "                    # If a valid path to the endStation is found from this neighbor, return it.\n",
    "                    return extended_path\n",
    "    return None  # Return None if no valid path is found from this branch of recursion.\n"
   ]
  },
  {
   "cell_type": "markdown",
   "id": "2eabb9ef864ce88a",
   "metadata": {
    "collapsed": false,
    "jupyter": {
     "outputs_hidden": false
    }
   },
   "source": [
    "#### Population Initialization\r\n",
    "Creates a starting population of routes for the algorithm to evolve from."
   ]
  },
  {
   "cell_type": "code",
   "execution_count": 20,
   "id": "6ebcf83067a7999c",
   "metadata": {
    "ExecuteTime": {
     "end_time": "2024-04-23T06:25:28.591810Z",
     "start_time": "2024-04-23T06:25:28.589366Z"
    },
    "collapsed": false,
    "jupyter": {
     "outputs_hidden": false
    }
   },
   "outputs": [],
   "source": [
    "def initialPopulation(popSize, stationList, startStation, endStation):\n",
    "    # Define a function to create an initial population of routes for a genetic algorithm.\n",
    "    population = []  # Initialize an empty list to store the population of routes.\n",
    "    for _ in range(popSize):\n",
    "        # Loop through a number of iterations equal to the desired population size.\n",
    "        route = None  # Initialize route to None to start the while loop for route generation.\n",
    "        while not route:\n",
    "            # Continue looping until a valid route is created (route is not None).\n",
    "            route = createValidRoute(stationList, startStation, endStation)\n",
    "            # Attempt to create a valid route using the createValidRoute function.\n",
    "        population.append(route)  # Add the successfully generated route to the population list.\n",
    "    return population  # Return the complete list of routes constituting the initial population.\n"
   ]
  },
  {
   "cell_type": "markdown",
   "id": "636f83cd523f0ae5",
   "metadata": {
    "collapsed": false,
    "jupyter": {
     "outputs_hidden": false
    }
   },
   "source": [
    "#### Fitness Ranking\r\n",
    "Evaluates and ranks each route in the current population based on its fitness score."
   ]
  },
  {
   "cell_type": "code",
   "execution_count": 21,
   "id": "d0d0142286d5abab",
   "metadata": {
    "ExecuteTime": {
     "end_time": "2024-04-23T06:25:29.312744Z",
     "start_time": "2024-04-23T06:25:29.310539Z"
    },
    "collapsed": false,
    "jupyter": {
     "outputs_hidden": false
    }
   },
   "outputs": [],
   "source": [
    "def rankRoutes(population):\n",
    "    # Define a function to rank routes in a given population based on their fitness scores.\n",
    "    fitnessResults = {}  # Initialize an empty dictionary to store fitness scores indexed by route index.\n",
    "    for i in range(len(population)):\n",
    "        # Loop through each route in the population.\n",
    "        fitnessResults[i] = Fitness(population[i]).routeFitness()\n",
    "        # Compute the fitness for each route using the Fitness class and store it in the dictionary with the route's index as the key.\n",
    "    return sorted(fitnessResults.items(), key=operator.itemgetter(1), reverse=True)\n",
    "    # Return a list of tuples (index, fitness), sorted by fitness in descending order. Higher fitness routes will appear first.\n"
   ]
  },
  {
   "cell_type": "markdown",
   "id": "a0f5d7b2a3c9b214",
   "metadata": {
    "collapsed": false,
    "jupyter": {
     "outputs_hidden": false
    }
   },
   "source": [
    "#### Selection and Reproduction\r\n",
    "Performs selection of the fittest routes and prepares them for reproduction."
   ]
  },
  {
   "cell_type": "code",
   "execution_count": 22,
   "id": "2909db4288e834f",
   "metadata": {
    "ExecuteTime": {
     "end_time": "2024-04-23T06:25:29.644889Z",
     "start_time": "2024-04-23T06:25:29.641046Z"
    },
    "collapsed": false,
    "jupyter": {
     "outputs_hidden": false
    }
   },
   "outputs": [],
   "source": [
    "def selection(popRanked, eliteSize):\n",
    "    # Initialize a list to store the indices of selected routes.\n",
    "    selectionResults = []\n",
    "    # Convert the ranked population into a pandas DataFrame for easier manipulation.\n",
    "    df = pd.DataFrame(np.array(popRanked), columns=[\"Index\",\"Fitness\"])\n",
    "    # Calculate the cumulative sum of fitness scores.\n",
    "    df['cum_sum'] = df.Fitness.cumsum()\n",
    "    # Calculate the cumulative percentage of the fitness scores.\n",
    "    df['cum_perc'] = 100 * df.cum_sum / df.Fitness.sum()\n",
    "    \n",
    "    # Elitism: directly select the top 'eliteSize' routes.\n",
    "    for i in range(eliteSize):\n",
    "        selectionResults.append(popRanked[i][0])\n",
    "    # Roulette Wheel Selection: select the rest based on their fitness proportion.\n",
    "    for i in range(len(popRanked) - eliteSize):\n",
    "        pick = 100 * random.random()  # Generate a random selection point.\n",
    "        for i in range(len(popRanked)):\n",
    "            if pick <= df.iat[i,3]:  # Check if the pick falls within the current cumulative percentage.\n",
    "                selectionResults.append(popRanked[i][0])\n",
    "                break  # Break the loop once a route is selected.\n",
    "    return selectionResults  # Return the list of selected indices.\n"
   ]
  },
  {
   "cell_type": "code",
   "execution_count": 23,
   "id": "4ec22f233e39b51f",
   "metadata": {
    "ExecuteTime": {
     "end_time": "2024-04-23T06:25:29.997612Z",
     "start_time": "2024-04-23T06:25:29.994639Z"
    },
    "collapsed": false,
    "jupyter": {
     "outputs_hidden": false
    }
   },
   "outputs": [],
   "source": [
    "def matingPool(population, selectionResults):\n",
    "    # Initialize a list to store the selected routes.\n",
    "    matingpool = []\n",
    "    # Retrieve each route by its index and add to the mating pool.\n",
    "    for i in range(len(selectionResults)):\n",
    "        index = selectionResults[i]\n",
    "        matingpool.append(population[index])\n",
    "    return matingpool  # Return the pool of routes selected for mating.\n"
   ]
  },
  {
   "cell_type": "code",
   "execution_count": 24,
   "id": "cb98fff319269c37",
   "metadata": {
    "ExecuteTime": {
     "end_time": "2024-04-23T06:25:30.749500Z",
     "start_time": "2024-04-23T06:25:30.747022Z"
    },
    "collapsed": false,
    "jupyter": {
     "outputs_hidden": false
    }
   },
   "outputs": [],
   "source": [
    "def breed(parent1, parent2):\n",
    "    # Initialize lists to store parts of the new child route.\n",
    "    child = []\n",
    "    childP1 = []\n",
    "    childP2 = []\n",
    "    # Randomly select crossover points.\n",
    "    geneA = int(random.random() * len(parent1))\n",
    "    geneB = int(random.random() * len(parent1))\n",
    "    startGene = min(geneA, geneB)\n",
    "    endGene = max(geneA, geneB)\n",
    "    # Slice parent1 for the first part of the child.\n",
    "    for i in range(startGene, endGene):\n",
    "        childP1.append(parent1[i])\n",
    "    # Include items from parent2 that are not in the first part.\n",
    "    childP2 = [item for item in parent2 if item not in childP1]\n",
    "    # Combine parts from both parents to form the new child.\n",
    "    child = childP1 + childP2\n",
    "    return child  # Return the newly formed child route.\n"
   ]
  },
  {
   "cell_type": "markdown",
   "id": "b4c19353f955577d",
   "metadata": {
    "collapsed": false,
    "jupyter": {
     "outputs_hidden": false
    }
   },
   "source": [
    "#### Mutation\r\n",
    "Introduces random mutations into a route to maintain genetic diversity."
   ]
  },
  {
   "cell_type": "code",
   "execution_count": 25,
   "id": "d6235375c6c9ad3d",
   "metadata": {
    "ExecuteTime": {
     "end_time": "2024-04-23T06:25:31.549164Z",
     "start_time": "2024-04-23T06:25:31.547070Z"
    },
    "collapsed": false,
    "jupyter": {
     "outputs_hidden": false
    }
   },
   "outputs": [],
   "source": [
    "def mutate(individual, mutationRate):\n",
    "    for swapped in range(len(individual)):\n",
    "        # Iterate over each station in the route.\n",
    "        if(random.random() < mutationRate):\n",
    "            # Perform mutation based on the mutation rate probability.\n",
    "            swapWith = int(random.random() * len(individual))\n",
    "            # Select a random index to swap with.\n",
    "            station1 = individual[swapped]\n",
    "            station2 = individual[swapWith]\n",
    "            # Swap the positions of two stations in the route.\n",
    "            individual[swapped] = station2\n",
    "            individual[swapWith] = station1\n",
    "    return individual  # Return the mutated individual.\n"
   ]
  },
  {
   "cell_type": "code",
   "execution_count": 26,
   "id": "6c9c64eb688eaaa3",
   "metadata": {
    "ExecuteTime": {
     "end_time": "2024-04-23T06:25:32.254970Z",
     "start_time": "2024-04-23T06:25:32.252650Z"
    },
    "collapsed": false,
    "jupyter": {
     "outputs_hidden": false
    }
   },
   "outputs": [],
   "source": [
    "def mutatePopulation(population, mutationRate):\n",
    "    mutatedPop = []\n",
    "    # Initialize a list to hold the mutated population.\n",
    "    for ind in range(len(population)):\n",
    "        # Iterate through each individual in the current population.\n",
    "        mutatedInd = mutate(population[ind], mutationRate)\n",
    "        # Mutate the individual and store in the mutated population list.\n",
    "        mutatedPop.append(mutatedInd)\n",
    "    return mutatedPop  # Return the new population with all individuals mutated.\n"
   ]
  },
  {
   "cell_type": "markdown",
   "id": "18254cd68b6f55f5",
   "metadata": {
    "collapsed": false,
    "jupyter": {
     "outputs_hidden": false
    }
   },
   "source": [
    "#### Evolution\r\n",
    "This function combines all the steps to create a new generation from the current population."
   ]
  },
  {
   "cell_type": "code",
   "execution_count": 27,
   "id": "14be81422f9767da",
   "metadata": {
    "ExecuteTime": {
     "end_time": "2024-04-23T06:25:33.110533Z",
     "start_time": "2024-04-23T06:25:33.108073Z"
    },
    "collapsed": false,
    "jupyter": {
     "outputs_hidden": false
    }
   },
   "outputs": [],
   "source": [
    "def nextGeneration(currentGen, eliteSize, mutationRate):\n",
    "    popRanked = rankRoutes(currentGen)\n",
    "    # Rank the current generation by fitness.\n",
    "    selectionResults = selection(popRanked, eliteSize)\n",
    "    # Select individuals based on their fitness to be parents.\n",
    "    matingpool = matingPool(currentGen, selectionResults)\n",
    "    # Create a mating pool from the selected individuals.\n",
    "    children = []\n",
    "    # List to hold the new generation.\n",
    "    length = len(currentGen) - eliteSize\n",
    "    # Calculate the number of new individuals to create.\n",
    "    pool = random.sample(matingpool, len(matingpool))\n",
    "    # Randomly mix the mating pool to increase genetic diversity.\n",
    "    for i in range(eliteSize):\n",
    "        children.append(currentGen[i])\n",
    "    # Preserve the elite individuals directly in the new generation.\n",
    "    for i in range(length):\n",
    "        # Breed new individuals from the mating pool and add to the new generation.\n",
    "        child = breed(pool[i], pool[len(currentGen)-i-1])\n",
    "        children.append(child)\n",
    "    nextGeneration = mutatePopulation(children, mutationRate)\n",
    "    # Apply mutations to the new generation.\n",
    "    return nextGeneration  # Return the newly formed generation.\n"
   ]
  },
  {
   "cell_type": "markdown",
   "id": "6158649c5bc32671",
   "metadata": {
    "collapsed": false,
    "jupyter": {
     "outputs_hidden": false
    }
   },
   "source": [
    "#### Defining the Genetic Algorithm Function\r\n",
    "The function geneticAlgorithm takes several parameters to control the genetic process: a list of stations (stationList), start and end stations (startStation, endStation), population size (popSize), elite size (eliteSize), mutation rate (mutationRate), and the number of generations (generations). It initializes a population and evolves it over several generations to find the shortest possible routeon\r\n"
   ]
  },
  {
   "cell_type": "code",
   "execution_count": 28,
   "id": "5cd416eb3aac0969",
   "metadata": {
    "ExecuteTime": {
     "end_time": "2024-04-23T06:25:33.903106Z",
     "start_time": "2024-04-23T06:25:33.900924Z"
    },
    "collapsed": false,
    "jupyter": {
     "outputs_hidden": false
    }
   },
   "outputs": [],
   "source": [
    "def geneticAlgorithm(stationList, startStation, endStation, popSize, eliteSize, mutationRate, generations):\n",
    "    # Initialize the population with randomly generated routes.\n",
    "    pop = initialPopulation(popSize, stationList, startStation, endStation)\n",
    "    # Calculate and print the shortest time of the initial population using fitness ranking.\n",
    "    print(\"Initial shortest time: \" + str(1 / rankRoutes(pop)[0][1]))\n",
    "    \n",
    "    # Iterate over a specified number of generations to evolve the population.\n",
    "    for i in range(generations):\n",
    "        # Generate the next generation by selection, breeding, and mutation.\n",
    "        pop = nextGeneration(pop, eliteSize, mutationRate)\n",
    "        # Print the current shortest time after each generation, updating inline.\n",
    "        print(\"Current shortest time: \" + str(1 / rankRoutes(pop)[0][1]), end=\"\\r\")\n",
    "    \n",
    "    # After the final generation, print the shortest route time achieved.\n",
    "    print(\"\\nFinal shortest time: \" + str(1 / rankRoutes(pop)[0][1]))\n",
    "    # Find the index of the route with the best fitness.\n",
    "    bestRouteIndex = rankRoutes(pop)[0][0]\n",
    "    # Retrieve the best route based on the index.\n",
    "    bestRoute = pop[bestRouteIndex]\n",
    "    return bestRoute  # Return the best route found.\n"
   ]
  },
  {
   "cell_type": "markdown",
   "id": "7b8881c9-e29a-4ec4-8072-30a4fe969437",
   "metadata": {},
   "source": [
    "#### Genetic Algorithm with Progress Visualization\r\n",
    "The function geneticAlgorithmPlot performs similarly to the geneticAlgorithm function but also tracks and visualizes the progress of the shortest route time over generations. This is useful for understanding how the algorithm improves the solution over time."
   ]
  },
  {
   "cell_type": "code",
   "execution_count": 29,
   "id": "c4ff70e330d65b0b",
   "metadata": {
    "ExecuteTime": {
     "end_time": "2024-04-23T06:25:34.830525Z",
     "start_time": "2024-04-23T06:25:34.827953Z"
    },
    "collapsed": false,
    "jupyter": {
     "outputs_hidden": false
    }
   },
   "outputs": [],
   "source": [
    "def geneticAlgorithmPlot(stationList, startStation, endStation, popSize, eliteSize, mutationRate, generations):\n",
    "    # Initialize the population similar to the geneticAlgorithm function.\n",
    "    pop = initialPopulation(popSize, stationList, startStation, endStation)\n",
    "    # Initialize a list to track the shortest route time after each generation.\n",
    "    progress = []\n",
    "    # Record the initial shortest route time.\n",
    "    progress.append(1 / rankRoutes(pop)[0][1])\n",
    "    # Display the initial shortest time.\n",
    "    print(\"Initial shortest time: \" + str(progress[0]))\n",
    "\n",
    "    # Iterate through each generation, similar to the geneticAlgorithm function.\n",
    "    for i in range(generations):\n",
    "        # Update the population to the next generation.\n",
    "        pop = nextGeneration(pop, eliteSize, mutationRate)\n",
    "        # Record the shortest route time for each generation.\n",
    "        progress.append(1 / rankRoutes(pop)[0][1])\n",
    "\n",
    "    # Plot the evolution of the shortest route time over generations.\n",
    "    plt.plot(progress)\n",
    "    plt.ylabel('Shortest Route Time')  # Label for the y-axis.\n",
    "    plt.xlabel('Generation')  # Label for the x-axis.\n",
    "    plt.show()  # Display the plot.\n",
    "\n",
    "    # Print the shortest route time achieved after the final generation.\n",
    "    print(\"Final shortest time: \" + str(progress[-1]))\n",
    "    # Identify and retrieve the best route from the final population.\n",
    "    bestRouteIndex = rankRoutes(pop)[0][0]\n",
    "    bestRoute = pop[bestRouteIndex]\n",
    "    return bestRoute  # Return the best route found.\n"
   ]
  },
  {
   "cell_type": "markdown",
   "id": "c64719205a24e498",
   "metadata": {
    "collapsed": false,
    "jupyter": {
     "outputs_hidden": false
    }
   },
   "source": [
    "#### Execution of the Genetic Algorithm\r\n",
    "Defines and executes the genetic algorithm using the defined classes and functions, aiming to find the most efficient route in a metro system."
   ]
  },
  {
   "cell_type": "code",
   "execution_count": 61,
   "id": "d2d1d77b2dbe975b",
   "metadata": {
    "ExecuteTime": {
     "end_time": "2024-04-23T07:22:08.175748Z",
     "start_time": "2024-04-23T07:21:46.713226Z"
    },
    "collapsed": false,
    "jupyter": {
     "outputs_hidden": false
    }
   },
   "outputs": [
    {
     "name": "stdout",
     "output_type": "stream",
     "text": [
      "Initial shortest time: 14.0\n"
     ]
    },
    {
     "data": {
      "image/png": "[encoded data removed]",
      "text/plain": [
       "<Figure size 640x480 with 1 Axes>"
      ]
     },
     "metadata": {},
     "output_type": "display_data"
    },
    {
     "name": "stdout",
     "output_type": "stream",
     "text": [
      "Final shortest time: 15.0\n",
      "Best route: [El Rosario, Instituto del Petroleo, La Raza, Consulado, Morelos, Candelaria, San Lazaro]\n"
     ]
    }
   ],
   "source": [
    "# Define a dictionary to store each station as an object of the Station class.\n",
    "stations = {\n",
    "    # Each Station object is initialized with its name and a dictionary of neighboring stations with travel times.\n",
    "    # Repeat for each station in the network. The keys are station names, values are Station objects with neighbors and times.\n",
    "    'El Rosario': Station('El Rosario', {'Tacuba': 4, 'Instituto del Petroleo': 6}),\n",
    "    'Instituto del Petroleo': Station('Instituto del Petroleo', {'El Rosario': 6, 'Deportivo 18 de Marzo': 2, 'La Raza': 2 }),\n",
    "    'Deportivo 18 de Marzo': Station('Deportivo 18 de Marzo', {'Instituto del Petroleo': 2 , 'La Raza': 2, 'Martin Carrera': 2 }),\n",
    "    'Martin Carrera': Station('Martin Carrera', {'Deportivo 18 de Marzo': 2, 'Consulado': 3 }),\n",
    "    'La Raza': Station('La Raza', {'Deportivo 18 de Marzo': 2, 'Instituto del Petroleo': 2, 'Guerrero': 2, 'Consulado': 3 }),\n",
    "    'Tacuba': Station('Tacuba', {'El Rosario': 4, 'Hidalgo': 7, 'Tacubaya': 5 }),\n",
    "    'Consulado': Station('Consulado', {'La Raza': 3, 'Martin Carrera': 3, 'Oceania': 3, 'Morelos': 2 }),\n",
    "    'Guerrero': Station('Guerrero', {'La Raza': 2, 'Garibaldi': 1, 'Hidalgo': 1 }),\n",
    "    'Garibaldi': Station('Garibaldi', {'Guerrero': 1, 'Morelos': 3, 'Bellas Artes': 1 }),\n",
    "    'Morelos': Station('Morelos', {'Garibaldi': 3, 'Consulado': 2, 'San Lazaro': 1, 'Candelaria': 1 }),\n",
    "    'Oceania': Station('Oceania', {'Consulado': 3, 'Pantitlan': 3, 'San Lazaro': 3 }),\n",
    "    'Hidalgo': Station('Hidalgo', {'Tacuba': 7, 'Guerrero': 1, 'Bellas Artes': 1, 'Balderas': 2 }),\n",
    "    'Bellas Artes': Station('Bellas Artes', {'Hidalgo': 1, 'Garibaldi': 1, 'Pino Suarez': 3, 'Salto del Agua': 2 }),\n",
    "    'Balderas': Station('Balderas', {'Hidalgo': 2, 'Salto del Agua': 1, 'Centro Medico': 3, 'Tacubaya': 6 }),\n",
    "    'Salto del Agua': Station('Salto del Agua', {'Bellas Artes': 2, 'Pino Suarez': 2, 'Chabacano': 3, 'Balderas': 1}),\n",
    "    'Pino Suarez': Station('Pino Suarez', {'Bellas Artes': 3, 'Candelaria': 2, 'Chabacano': 2, 'Salto del Agua': 2 }),  \n",
    "    'Candelaria': Station('Candelaria', {'Morelos': 1, 'San Lazaro': 1, 'Jamaica': 2, 'Pino Suarez': 2 }),\n",
    "    'San Lazaro': Station('San Lazaro', {'Morelos': 1, 'Oceania': 3, 'Pantitlan': 6, 'Candelaria': 1 }),\n",
    "    'Pantitlan': Station('Pantitlan', {'Oceania': 3, 'Jamaica': 5, 'San Lazaro': 6 }),\n",
    "    'Tacubaya': Station('Tacubaya', {'Tacuba': 5, 'Balderas': 6, 'Centro Medico': 3, 'Mixcoac': 3 }),\n",
    "    'Centro Medico': Station('Centro Medico', {'Balderas': 3, 'Chabacano': 2, 'Zapata': 4, 'Tacubaya': 3 }),\n",
    "    'Chabacano': Station('Chabacano', {'Pino Suarez': 2, 'Jamaica': 1, 'Atlalilco': 8, 'Ermita': 6, 'Centro Medico': 2, 'Salto del Agua': 3 }),\n",
    "    'Jamaica': Station('Jamaica', {'Candelaria': 2, 'Pantitlan': 5, 'Chabacano': 1 }),\n",
    "    'Mixcoac': Station('Mixcoac', {'Tacubaya': 3, 'Zapata': 3 }),\n",
    "    'Zapata': Station('Zapata', {'Centro Medico': 4, 'Ermita': 3, 'Mixcoac': 3 }),\n",
    "    'Ermita': Station('Ermita', {'Chabacano': 6, 'Atlalilco': 2, 'Zapata': 3 }),\n",
    "    'Atlalilco': Station('Atlalilco', {'Chabacano': 8, 'Ermita': 2 }),  \n",
    "}\n",
    "\n",
    "\n",
    "stationList = [stations[name] for name in stations]\n",
    "# Create a list of all station objects to facilitate easy access by the genetic algorithm functions.\n",
    "startStation = stations['El Rosario']\n",
    "# Define the start station for the genetic algorithm's routing problem.\n",
    "endStation = stations['San Lazaro']\n",
    "# Define the end station for the genetic algorithm's routing problem.\n",
    "\n",
    "bestRoute = geneticAlgorithmPlot(stationList, startStation, endStation, popSize=150, eliteSize=10, mutationRate=0.01, generations=50)\n",
    "# Call the geneticAlgorithmPlot function which also runs the genetic algorithm but plots the progression of the shortest route time over generations.\n",
    "print(\"Best route:\", bestRoute)\n",
    "# Print the best route found by the plotting version of the genetic algorithm.\n"
   ]
  },
  {
   "cell_type": "code",
   "execution_count": null,
   "id": "2cba60b7-1ff7-4a0b-bf0e-65ae57e4a21a",
   "metadata": {},
   "outputs": [],
   "source": []
  }
 ],
 "metadata": {
  "kernelspec": {
   "display_name": "Python 3 (ipykernel)",
   "language": "python",
   "name": "python3"
  },
  "language_info": {
   "codemirror_mode": {
    "name": "ipython",
    "version": 3
   },
   "file_extension": ".py",
   "mimetype": "text/x-python",
   "name": "python",
   "nbconvert_exporter": "python",
   "pygments_lexer": "ipython3",
   "version": "3.12.3"
  }
 },
 "nbformat": 4,
 "nbformat_minor": 5
}
